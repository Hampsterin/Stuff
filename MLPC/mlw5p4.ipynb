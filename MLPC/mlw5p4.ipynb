{
 "cells": [
  {
   "cell_type": "code",
   "execution_count": 1,
   "metadata": {},
   "outputs": [],
   "source": [
    "# Import libraries\n",
    "import random\n",
    "import matplotlib.pyplot as plt"
   ]
  },
  {
   "cell_type": "code",
   "execution_count": 2,
   "metadata": {},
   "outputs": [],
   "source": [
    "# Knapsack Problem parameters\n",
    "items = [\n",
    "    {\"name\": \"Item 1\", \"weight\": 5, \"value\": 1},\n",
    "    {\"name\": \"Item 2\", \"weight\": 1, \"value\": 8},\n",
    "    {\"name\": \"Item 3\", \"weight\": 6, \"value\": 5},\n",
    "    {\"name\": \"Item 4\", \"weight\": 2, \"value\": 10},\n",
    "    {\"name\": \"Item 5\", \"weight\": 3, \"value\": 6},\n",
    "    {\"name\": \"Item 6\", \"weight\": 9, \"value\": 2},\n",
    "    {\"name\": \"Item 7\", \"weight\": 7, \"value\": 4},\n",
    "]\n",
    "\n",
    "knapsack_capacity = 22"
   ]
  },
  {
   "cell_type": "code",
   "execution_count": 3,
   "metadata": {},
   "outputs": [],
   "source": [
    "# Genetic Algorithm parameters\n",
    "population_size = 100\n",
    "mutation_rate = 0.05\n",
    "num_generations = 250"
   ]
  },
  {
   "cell_type": "code",
   "execution_count": 4,
   "metadata": {},
   "outputs": [],
   "source": [
    "# Create initial population\n",
    "def create_individual(): \n",
    "    return [random.randint(0, 1) for i in range(len(items))]"
   ]
  },
  {
   "cell_type": "code",
   "execution_count": 5,
   "metadata": {},
   "outputs": [],
   "source": [
    "def create_population():  \n",
    "    return [create_individual() for _ in range(population_size)]"
   ]
  },
  {
   "cell_type": "code",
   "execution_count": 6,
   "metadata": {},
   "outputs": [],
   "source": [
    "# Evaluate fitness of an individual\n",
    "def evaluate_fitness(individual):\n",
    "    total_value = 0\n",
    "    total_weight = 0\n",
    "    for i in range(len(items)):\n",
    "        if individual[i] == 1:\n",
    "            total_value += items[i]['value']\n",
    "            total_weight += items[i]['weight']\n",
    "    if total_weight > knapsack_capacity:\n",
    "        total_value = 0\n",
    "    return total_value"
   ]
  },
  {
   "cell_type": "code",
   "execution_count": 7,
   "metadata": {},
   "outputs": [],
   "source": [
    "# Select parents for crossover using a roulette wheel selection\n",
    "def select_parents(population):\n",
    "    fitness_values = [evaluate_fitness(individual) for individual in population]\n",
    "    total_fitness = sum(fitness_values)\n",
    "    probabilities = [fitness / total_fitness for fitness in fitness_values]\n",
    "    parents = random.choices(population, weights=probabilities, k=2)\n",
    "    return parents[0], parents[1]"
   ]
  },
  {
   "cell_type": "code",
   "execution_count": 8,
   "metadata": {},
   "outputs": [],
   "source": [
    "# Perform crossover using a single-point crossover\n",
    "def crossover(parent1, parent2):\n",
    "    crossover_point = random.randint(1, len(parent1)-1)\n",
    "    child1 = parent1[:crossover_point] + parent2[crossover_point:]\n",
    "    child2 = parent2[:crossover_point] + parent1[crossover_point:]\n",
    "    return child1, child2"
   ]
  },
  {
   "cell_type": "code",
   "execution_count": 9,
   "metadata": {},
   "outputs": [],
   "source": [
    "# Perform mutation by flipping bits with a given probability\n",
    "def mutate(individual):\n",
    "    for i in range(len(individual)):\n",
    "        if random.random() < mutation_rate:\n",
    "            individual[i] = 1 - individual[i]"
   ]
  },
  {
   "cell_type": "code",
   "execution_count": 10,
   "metadata": {},
   "outputs": [],
   "source": [
    "# Run the genetic algorithm\n",
    "def genetic_algorithm():\n",
    "    population = create_population()\n",
    "\n",
    "    for _ in range(num_generations):\n",
    "        new_population = []\n",
    "\n",
    "        # Create new individuals through crossover and mutation\n",
    "        for _ in range(population_size // 2):\n",
    "            parent1, parent2 = select_parents(population)\n",
    "            child1, child2 = crossover(parent1, parent2)\n",
    "            mutate(child1)\n",
    "            mutate(child2)\n",
    "            new_population.extend([child1, child2])\n",
    "\n",
    "        population = new_population\n",
    "\n",
    "    # Find the best individual (highest fitness) in the final population\n",
    "    best_individual = max(population, key=evaluate_fitness)\n",
    "    best_fitness = evaluate_fitness(best_individual)\n",
    "    return best_individual, best_fitness"
   ]
  },
  {
   "cell_type": "code",
   "execution_count": 11,
   "metadata": {},
   "outputs": [
    {
     "name": "stdout",
     "output_type": "stream",
     "text": [
      "Best Solution: [0, 1, 1, 1, 1, 0, 1]\n",
      "Best Fitness: 33\n"
     ]
    }
   ],
   "source": [
    "# Run the genetic algorithm and print the results\n",
    "best_solution, best_fitness = genetic_algorithm()\n",
    "print(\"Best Solution:\", best_solution)\n",
    "print(\"Best Fitness:\", best_fitness)"
   ]
  },
  {
   "cell_type": "markdown",
   "metadata": {},
   "source": [
    "Experimental Analysis"
   ]
  },
  {
   "cell_type": "code",
   "execution_count": 12,
   "metadata": {},
   "outputs": [],
   "source": [
    "# Knapsack Problem parameters\n",
    "items = [\n",
    "    {\"name\": \"Item 1\", \"weight\": 2, \"value\": 1},\n",
    "    {\"name\": \"Item 2\", \"weight\": 1, \"value\": 2},\n",
    "    {\"name\": \"Item 3\", \"weight\": 6, \"value\": 5},\n",
    "    {\"name\": \"Item 4\", \"weight\": 4, \"value\": 3},\n",
    "    {\"name\": \"Item 5\", \"weight\": 3, \"value\": 6},\n",
    "    {\"name\": \"Item 6\", \"weight\": 8, \"value\": 9},\n",
    "    {\"name\": \"Item 7\", \"weight\": 7, \"value\": 7},\n",
    "]\n",
    "\n",
    "knapsack_capacity = 20"
   ]
  },
  {
   "cell_type": "code",
   "execution_count": 13,
   "metadata": {},
   "outputs": [],
   "source": [
    "# Genetic Algorithm parameters\n",
    "population_size = 150\n",
    "mutation_rate = 0.1\n",
    "num_generations = 200"
   ]
  },
  {
   "cell_type": "code",
   "execution_count": 14,
   "metadata": {},
   "outputs": [],
   "source": [
    "# Create initial population\n",
    "def create_individual(): \n",
    "    return [random.randint(0, 1) for i in range(len(items))]\n",
    "\n",
    "def create_population():  \n",
    "    return [create_individual() for _ in range(population_size)]"
   ]
  },
  {
   "cell_type": "code",
   "execution_count": 15,
   "metadata": {},
   "outputs": [],
   "source": [
    "# Evaluate fitness of an individual\n",
    "def evaluate_fitness(individual):\n",
    "    total_value = 0\n",
    "    total_weight = 0\n",
    "    for i in range(len(items)):\n",
    "        if individual[i] == 1:\n",
    "            total_value += items[i]['value']\n",
    "            total_weight += items[i]['weight']\n",
    "    if total_weight > knapsack_capacity:\n",
    "        total_value = 0\n",
    "    return total_value"
   ]
  },
  {
   "cell_type": "code",
   "execution_count": 16,
   "metadata": {},
   "outputs": [],
   "source": [
    "# Select parents for crossover using a roulette wheel selection\n",
    "def select_parents(population):\n",
    "    fitness_values = [evaluate_fitness(individual) for individual in population]\n",
    "    total_fitness = sum(fitness_values)\n",
    "    probabilities = [fitness / total_fitness for fitness in fitness_values]\n",
    "    parents = random.choices(population, weights=probabilities, k=2)\n",
    "    return parents[0], parents[1]"
   ]
  },
  {
   "cell_type": "code",
   "execution_count": 17,
   "metadata": {},
   "outputs": [],
   "source": [
    "# Perform crossover using a single-point crossover\n",
    "def crossover(parent1, parent2):\n",
    "    crossover_point = random.randint(1, len(parent1)-1)\n",
    "    child1 = parent1[:crossover_point] + parent2[crossover_point:]\n",
    "    child2 = parent2[:crossover_point] + parent1[crossover_point:]\n",
    "    return child1, child2"
   ]
  },
  {
   "cell_type": "code",
   "execution_count": 18,
   "metadata": {},
   "outputs": [],
   "source": [
    "# Perform mutation by flipping bits with a given probability\n",
    "def mutate(individual):\n",
    "    for i in range(len(individual)):\n",
    "        if random.random() < mutation_rate:\n",
    "            individual[i] = 1 - individual[i]"
   ]
  },
  {
   "cell_type": "code",
   "execution_count": 19,
   "metadata": {},
   "outputs": [],
   "source": [
    "# Run the genetic algorithm\n",
    "def genetic_algorithm():\n",
    "    population = create_population()\n",
    "\n",
    "    for _ in range(num_generations):\n",
    "        new_population = []\n",
    "\n",
    "        # Create new individuals through crossover and mutation\n",
    "        for _ in range(population_size // 2):\n",
    "            parent1, parent2 = select_parents(population)\n",
    "            child1, child2 = crossover(parent1, parent2)\n",
    "            mutate(child1)\n",
    "            mutate(child2)\n",
    "            new_population.extend([child1, child2])\n",
    "\n",
    "        population = new_population\n",
    "\n",
    "    # Find the best individual (highest fitness) in the final population\n",
    "    best_individual = max(population, key=evaluate_fitness)\n",
    "    best_fitness = evaluate_fitness(best_individual)\n",
    "    return best_individual, best_fitness"
   ]
  },
  {
   "cell_type": "code",
   "execution_count": 20,
   "metadata": {},
   "outputs": [
    {
     "name": "stdout",
     "output_type": "stream",
     "text": [
      "Best Solution: [0, 1, 0, 0, 1, 1, 1]\n",
      "Best Fitness: 24\n"
     ]
    }
   ],
   "source": [
    "# Run the genetic algorithm and print the results\n",
    "best_solution, best_fitness = genetic_algorithm()\n",
    "print(\"Best Solution:\", best_solution)\n",
    "print(\"Best Fitness:\", best_fitness)"
   ]
  },
  {
   "cell_type": "code",
   "execution_count": 21,
   "metadata": {},
   "outputs": [
    {
     "data": {
      "image/png": "[encoded data removed]",
      "text/plain": [
       "<Figure size 640x480 with 1 Axes>"
      ]
     },
     "metadata": {},
     "output_type": "display_data"
    }
   ],
   "source": [
    "# Mock data for plotting the convergence\n",
    "best_fitness = [35, 40, 45, 48, 48, 49, 50, 52, 52, 53, 53, 54, 54, 54, 55, 55, 55, 55, 55, 55, 55]  # Example values\n",
    "\n",
    "# Plot the convergence\n",
    "plt.plot(best_fitness)\n",
    "plt.title('GA Convergence: Best Fitness Value Over Generations')\n",
    "plt.xlabel('Generation')\n",
    "plt.ylabel('Best Fitness Value')\n",
    "plt.grid(True)\n",
    "plt.show()"
   ]
  },
  {
   "cell_type": "markdown",
   "metadata": {},
   "source": [
    "Greedy Algorithm"
   ]
  },
  {
   "cell_type": "code",
   "execution_count": 25,
   "metadata": {},
   "outputs": [
    {
     "name": "stdout",
     "output_type": "stream",
     "text": [
      "Best Selection: 33\n"
     ]
    }
   ],
   "source": [
    "# Greedy Algorithm\n",
    "def greedy_algorithm(items, knapsack_capacity):\n",
    "    # Sort items by value-to-weight ratio\n",
    "    items_sorted = sorted(items, key=lambda x: x[1] / x[0], reverse=True)\n",
    "    \n",
    "    total_value = 0\n",
    "    total_weight = 0\n",
    "    for item in items_sorted:\n",
    "        if total_weight + item[0] <= knapsack_capacity:\n",
    "            total_weight += item[0]\n",
    "            total_value += item[1]\n",
    "    return total_value\n",
    "\n",
    "# Running the Greedy Algorithm\n",
    "items = [(2, 1), (1, 2), (6, 5), (4, 3), (3, 6), (8, 9), (7, 7)]\n",
    "knapsack_capacity = 70\n",
    "best_selection = greedy_algorithm(items, knapsack_capacity)\n",
    "\n",
    "print(\"Best Selection:\", best_selection)"
   ]
  }
 ],
 "metadata": {
  "kernelspec": {
   "display_name": "Python 3",
   "language": "python",
   "name": "python3"
  },
  "language_info": {
   "codemirror_mode": {
    "name": "ipython",
    "version": 3
   },
   "file_extension": ".py",
   "mimetype": "text/x-python",
   "name": "python",
   "nbconvert_exporter": "python",
   "pygments_lexer": "ipython3",
   "version": "3.12.6"
  }
 },
 "nbformat": 4,
 "nbformat_minor": 2
}
