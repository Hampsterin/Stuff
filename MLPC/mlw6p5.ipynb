{
 "cells": [
  {
   "cell_type": "code",
   "execution_count": 1,
   "metadata": {},
   "outputs": [],
   "source": [
    "#Import libraries\n",
    "from pgmpy.models import BayesianNetwork\n",
    "from pgmpy.factors.discrete import TabularCPD\n",
    "from pgmpy.inference import VariableElimination"
   ]
  },
  {
   "cell_type": "code",
   "execution_count": 2,
   "metadata": {},
   "outputs": [],
   "source": [
    "#Define the structure of the Bayesian Network\n",
    "model = BayesianNetwork([('Anthrax', 'Cough'),\n",
    "                         ('Anthrax', 'Fever'),\n",
    "                         ('Anthrax', 'BreathingDifficulty'),\n",
    "                         ('Anthrax', 'SkinLesions')])"
   ]
  },
  {
   "cell_type": "code",
   "execution_count": 3,
   "metadata": {},
   "outputs": [],
   "source": [
    "#Define the CPDs (Conditional Probability Distributions)\n",
    "cpd_anthrax = TabularCPD(variable='Anthrax', variable_card=2,\n",
    "                          values=[[0.999], [0.001]])\n",
    "\n",
    "cpd_cough = TabularCPD(variable='Cough', variable_card=2,\n",
    "                            values=[[0.95, 0.01],\n",
    "                                    [0.05, 0.99]],\n",
    "                            evidence=['Anthrax'],\n",
    "                            evidence_card=[2])\n",
    "\n",
    "cpd_fever = TabularCPD(variable='Fever', variable_card=2,\n",
    "                            values=[[0.95, 0.01],\n",
    "                                    [0.05, 0.99]],\n",
    "                            evidence=['Anthrax'],\n",
    "                            evidence_card=[2])\n",
    "\n",
    "cpd_breathing_difficulty = TabularCPD(variable='BreathingDifficulty', variable_card=2,\n",
    "                            values=[[0.95, 0.01],\n",
    "                                    [0.05, 0.99]],\n",
    "                            evidence=['Anthrax'],\n",
    "                            evidence_card=[2])\n",
    "\n",
    "cpd_skin_lesions = TabularCPD(variable='SkinLesions', variable_card=2,\n",
    "                              values=[[0.9, 0.02],\n",
    "                                      [0.1, 0.98]],\n",
    "                              evidence=['Anthrax'],\n",
    "                              evidence_card=[2])"
   ]
  },
  {
   "cell_type": "code",
   "execution_count": 4,
   "metadata": {},
   "outputs": [
    {
     "name": "stdout",
     "output_type": "stream",
     "text": [
      "The model is valid.\n"
     ]
    }
   ],
   "source": [
    "#Add the CPDs to the model\n",
    "model.add_cpds(cpd_anthrax, cpd_cough, cpd_fever, cpd_breathing_difficulty, cpd_skin_lesions)\n",
    "\n",
    "#Check if the model is valid\n",
    "if model.check_model():\n",
    "    print(\"The model is valid.\")\n",
    "else:\n",
    "    print(\"The model is invalid.\")\n",
    "\n",
    "# Perform inference\n",
    "inference = VariableElimination(model)"
   ]
  },
  {
   "cell_type": "code",
   "execution_count": 5,
   "metadata": {},
   "outputs": [
    {
     "name": "stdout",
     "output_type": "stream",
     "text": [
      "\n",
      "Probability of having Anthrax if all three symptoms are present:\n",
      "+------------+----------------+\n",
      "| Anthrax    |   phi(Anthrax) |\n",
      "+============+================+\n",
      "| Anthrax(0) |         0.1140 |\n",
      "+------------+----------------+\n",
      "| Anthrax(1) |         0.8860 |\n",
      "+------------+----------------+\n",
      "\n",
      "Probability of having Fever if patient has Anthrax:\n",
      "+----------+--------------+\n",
      "| Fever    |   phi(Fever) |\n",
      "+==========+==============+\n",
      "| Fever(0) |       0.0100 |\n",
      "+----------+--------------+\n",
      "| Fever(1) |       0.9900 |\n",
      "+----------+--------------+\n",
      "\n",
      "Probability of having Anthrax if all four symptoms are present:\n",
      "+------------+----------------+\n",
      "| Anthrax    |   phi(Anthrax) |\n",
      "+============+================+\n",
      "| Anthrax(0) |         0.0130 |\n",
      "+------------+----------------+\n",
      "| Anthrax(1) |         0.9870 |\n",
      "+------------+----------------+\n"
     ]
    }
   ],
   "source": [
    "#Query: Probability of a patient having Anthrax given that they exhibit all three symptoms (Cough, Fever and Breathing Difficulty)\n",
    "query_result = inference.query(variables=['Anthrax'], evidence={'Cough': 1, 'Fever': 1, 'BreathingDifficulty': 1})\n",
    "print(\"\\nProbability of having Anthrax if all three symptoms are present:\")\n",
    "print(query_result)\n",
    "\n",
    "#Query: Probability of having a Fever given that the patient is diagnosed with Anthrax\n",
    "query_result = inference.query(variables=['Fever'], evidence={'Anthrax': 1})\n",
    "print(\"\\nProbability of having Fever if patient has Anthrax:\")\n",
    "print(query_result)\n",
    "\n",
    "#Query: Probability of a patient having Anthrax given that they exhibit all three symptoms (Cough, Fever and Breathing Difficulty)\n",
    "query_result = inference.query(variables=['Anthrax'], evidence={'Cough': 1, 'Fever': 1, 'BreathingDifficulty': 1, 'SkinLesions': 1})\n",
    "print(\"\\nProbability of having Anthrax if all four symptoms are present:\")\n",
    "print(query_result)"
   ]
  }
 ],
 "metadata": {
  "kernelspec": {
   "display_name": "Python 3",
   "language": "python",
   "name": "python3"
  },
  "language_info": {
   "codemirror_mode": {
    "name": "ipython",
    "version": 3
   },
   "file_extension": ".py",
   "mimetype": "text/x-python",
   "name": "python",
   "nbconvert_exporter": "python",
   "pygments_lexer": "ipython3",
   "version": "3.12.6"
  }
 },
 "nbformat": 4,
 "nbformat_minor": 2
}
